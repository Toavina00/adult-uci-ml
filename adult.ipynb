{
 "cells": [
  {
   "cell_type": "markdown",
   "id": "7a92a26b-5e35-42ec-bc40-abed4664c43c",
   "metadata": {
    "collapsed": true,
    "jupyter": {
     "outputs_hidden": true
    }
   },
   "source": [
    "# Census Income\n",
    "\n",
    "## Description\n",
    "We want to determine whether a person makes over \\\\$50,000 a year based on census data. This is a classification problem where we aim to categorize individuals into two groups: those with an income exceeding \\\\$50,000 annually and those with an income below this threshold. Given that we have a classification task, a machine learning algorithm can be applied to the problem.\n",
    "\n",
    "To achieve this, we will analyze the \"Census Income\" dataset containing various features and by leveraging them, we can train a machine learning model to make accurate classifications. This classification task can be useful for applications such as targeted marketing, economic research, and policy-making.\n",
    "\n",
    "Once the model is trained, we will evaluate its performance using metrics such as accuracy, precision, recall, and the F1 score. These metrics will help us ensure that our model is reliable and effective in distinguishing between the two income groups.\r\n",
    "\n",
    "\n",
    "## Dataset\n",
    "- Source: https://archive.ics.uci.edu/dataset/2/adult\n",
    "- Summary: Extraction was done by Barry Becker from the 1994 Census database.  A set of reasonably clean records was extracted using the following conditions: ((AAGE>16) && (AGI>100) && (AFNLWGT>1)&& (HRSWK>0))."
   ]
  },
  {
   "cell_type": "markdown",
   "id": "daf1fbde-5d9c-4d63-a592-58726169aebe",
   "metadata": {},
   "source": [
    "## Data fetching"
   ]
  },
  {
   "cell_type": "code",
   "execution_count": 1,
   "id": "8a4e1ba3-1d82-4dc7-a33f-db3feb0978e3",
   "metadata": {},
   "outputs": [],
   "source": [
    "import warnings\n",
    "\n",
    "warnings.simplefilter(\"ignore\")"
   ]
  },
  {
   "cell_type": "code",
   "execution_count": 2,
   "id": "341a960e-255a-4bd2-8272-b52d88eababc",
   "metadata": {},
   "outputs": [],
   "source": [
    "import numpy as np\n",
    "import matplotlib.pyplot as plt\n",
    "import pandas as pd\n",
    "import seaborn as sns"
   ]
  },
  {
   "cell_type": "code",
   "execution_count": 3,
   "id": "e1916815-2162-47c1-8a32-717d52b64d5f",
   "metadata": {
    "collapsed": true,
    "jupyter": {
     "outputs_hidden": true
    }
   },
   "outputs": [
    {
     "name": "stdout",
     "output_type": "stream",
     "text": [
      "Requirement already satisfied: ucimlrepo in /home/toavina/anaconda3/lib/python3.11/site-packages (0.0.7)\n",
      "Requirement already satisfied: pandas>=1.0.0 in /home/toavina/anaconda3/lib/python3.11/site-packages (from ucimlrepo) (2.1.4)\n",
      "Requirement already satisfied: certifi>=2020.12.5 in /home/toavina/anaconda3/lib/python3.11/site-packages (from ucimlrepo) (2024.2.2)\n",
      "Requirement already satisfied: numpy<2,>=1.23.2 in /home/toavina/anaconda3/lib/python3.11/site-packages (from pandas>=1.0.0->ucimlrepo) (1.26.4)\n",
      "Requirement already satisfied: python-dateutil>=2.8.2 in /home/toavina/anaconda3/lib/python3.11/site-packages (from pandas>=1.0.0->ucimlrepo) (2.8.2)\n",
      "Requirement already satisfied: pytz>=2020.1 in /home/toavina/anaconda3/lib/python3.11/site-packages (from pandas>=1.0.0->ucimlrepo) (2023.3.post1)\n",
      "Requirement already satisfied: tzdata>=2022.1 in /home/toavina/anaconda3/lib/python3.11/site-packages (from pandas>=1.0.0->ucimlrepo) (2023.3)\n",
      "Requirement already satisfied: six>=1.5 in /home/toavina/anaconda3/lib/python3.11/site-packages (from python-dateutil>=2.8.2->pandas>=1.0.0->ucimlrepo) (1.16.0)\n"
     ]
    }
   ],
   "source": [
    "!pip install ucimlrepo"
   ]
  },
  {
   "cell_type": "code",
   "execution_count": null,
   "id": "e4a6aa0d-9c73-4b91-87a3-41ba4f1a07f8",
   "metadata": {},
   "outputs": [],
   "source": [
    "from ucimlrepo import fetch_ucirepo \n",
    "  \n",
    "# fetch dataset \n",
    "adult = fetch_ucirepo(id=2) \n",
    "  \n",
    "# data (as pandas dataframes) \n",
    "X = adult.data.features \n",
    "y = adult.data.targets "
   ]
  },
  {
   "cell_type": "markdown",
   "id": "3e695d4f-6365-49ee-baf5-4fa669b35894",
   "metadata": {},
   "source": [
    "## Exploratory Data Analysis"
   ]
  },
  {
   "cell_type": "code",
   "execution_count": null,
   "id": "0906736e-c288-4a29-8c40-e37b68795172",
   "metadata": {},
   "outputs": [],
   "source": [
    "df = pd.concat([X,y], axis=1)"
   ]
  },
  {
   "cell_type": "code",
   "execution_count": null,
   "id": "0b76c3ad-2a63-46b0-80a9-d5533876c83e",
   "metadata": {},
   "outputs": [],
   "source": [
    "df.shape"
   ]
  },
  {
   "cell_type": "markdown",
   "id": "4ee364b6-16dd-4d0b-a1c6-2ed1a1ddfdc8",
   "metadata": {},
   "source": [
    "Our dataset contains 48,842 observations and 15 features."
   ]
  },
  {
   "cell_type": "code",
   "execution_count": null,
   "id": "8f123620-d1dd-44d6-bf5c-863e715720cd",
   "metadata": {},
   "outputs": [],
   "source": [
    "df.head()"
   ]
  },
  {
   "cell_type": "markdown",
   "id": "e81f8400-af46-4d96-8420-c6a14eb5aabc",
   "metadata": {},
   "source": [
    "The above cell gives us an overview of the first lines of our dataset."
   ]
  },
  {
   "cell_type": "code",
   "execution_count": null,
   "id": "481ffb0e-9b19-4c34-958f-95e9a529b5c7",
   "metadata": {},
   "outputs": [],
   "source": [
    "df.dtypes.value_counts().plot.pie(autopct='%1.1f%%');"
   ]
  },
  {
   "cell_type": "markdown",
   "id": "685b72d9-7d2d-42dc-a9e9-02723be7b372",
   "metadata": {},
   "source": [
    "As we can see in the pie plot above, 60 % of our features sont de type object et 40 % sont de type int. We only have categorical and discrete numerical variables."
   ]
  },
  {
   "cell_type": "code",
   "execution_count": null,
   "id": "c5fe6258-ca8a-488f-a5c3-79b2015a890f",
   "metadata": {},
   "outputs": [],
   "source": [
    "pd.DataFrame( df.isna().sum() / df.shape[0] ).rename({0: \"Missing pct\"}, axis=1)"
   ]
  },
  {
   "cell_type": "markdown",
   "id": "3a43e9b7-5433-45e7-bc77-5c4ce5f252b7",
   "metadata": {},
   "source": [
    "The above shows us that some of the values from the columns *workclass*, *occupation* and *native-country* are missing."
   ]
  },
  {
   "cell_type": "markdown",
   "id": "c616e478-2b7f-4be9-9644-16822a8fc18d",
   "metadata": {},
   "source": [
    "### Categorical variables"
   ]
  },
  {
   "cell_type": "code",
   "execution_count": null,
   "id": "a3540364-0f65-4daf-af76-f23db7369dd0",
   "metadata": {},
   "outputs": [],
   "source": [
    "pd.DataFrame( df.select_dtypes(\"O\").nunique() ).rename({0: \"distinct values\"}, axis=1)"
   ]
  },
  {
   "cell_type": "markdown",
   "id": "ee55fcf3-99bf-4904-9ba2-257b5ed0a9b0",
   "metadata": {},
   "source": [
    "The table above shows the number of unique values in each categorical variable. Notably, the *native-country*, *education* and *occupation* columns contains a significant number of unique values. Additionally, we observe an issue with the *income* column, which should have only two unique values but instead has four different ones."
   ]
  },
  {
   "cell_type": "code",
   "execution_count": null,
   "id": "539fe3b5-7954-4995-94c6-cc64d5a7351d",
   "metadata": {},
   "outputs": [],
   "source": [
    "g = sns.FacetGrid(\n",
    "    data=df.select_dtypes(\"O\").melt().value_counts().reset_index(),\n",
    "    col=\"variable\",\n",
    "    col_wrap=3,\n",
    "    sharex=False,\n",
    "    sharey=False,\n",
    "    height=5,\n",
    "    aspect=1.5,\n",
    ")\n",
    "g.map(sns.barplot, \"count\", \"value\", orientation=\"horizontal\");"
   ]
  },
  {
   "cell_type": "markdown",
   "id": "61826b62-43ee-4d97-bc99-2f6b50496431",
   "metadata": {},
   "source": [
    "The bar plots above illustrate the distributions of observations for each value within the categorical variables, including the target variable. We observe significant imbalances, particularly in the *native-country*, *race*, and *workclass* variables. These imbalances could potentially bias our model toward the dominant categories, leading to ethical concerns.\n",
    "\n",
    "Regarding the *income* variable, we observe that there are equivalent classes that can be merged to achieve the two classes of interest."
   ]
  },
  {
   "cell_type": "code",
   "execution_count": null,
   "id": "7612398e-5ad8-4045-b8b0-f7609e8ddf61",
   "metadata": {},
   "outputs": [],
   "source": [
    "_d = df.select_dtypes(\"O\").melt(id_vars=\"income\").value_counts().reset_index()\n",
    "_d[\"income\"] = _d[\"income\"].str.replace(r\"<=.*\", \"<=50\", regex=True).replace(r\">.*\", \">50\", regex=True)\n",
    "\n",
    "g = sns.FacetGrid(\n",
    "    data=_d,\n",
    "    col=\"variable\",\n",
    "    col_wrap=3,\n",
    "    sharex=False,\n",
    "    sharey=False,\n",
    "    height=5,\n",
    "    aspect=1.5,\n",
    ")\n",
    "g.map(sns.barplot, \"count\", \"value\", orientation=\"horizontal\");"
   ]
  }
 ],
 "metadata": {
  "kernelspec": {
   "display_name": "Python 3 (ipykernel)",
   "language": "python",
   "name": "python3"
  },
  "language_info": {
   "codemirror_mode": {
    "name": "ipython",
    "version": 3
   },
   "file_extension": ".py",
   "mimetype": "text/x-python",
   "name": "python",
   "nbconvert_exporter": "python",
   "pygments_lexer": "ipython3",
   "version": "3.11.7"
  }
 },
 "nbformat": 4,
 "nbformat_minor": 5
}
